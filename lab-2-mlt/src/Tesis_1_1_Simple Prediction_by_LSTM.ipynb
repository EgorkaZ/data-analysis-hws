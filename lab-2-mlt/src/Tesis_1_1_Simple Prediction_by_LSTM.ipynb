{
  "cells": [
    {
      "cell_type": "markdown",
      "source": [
        "# LSTM to predict active price"
      ],
      "metadata": {}
    },
    {
      "cell_type": "markdown",
      "source": [
        "## Load data"
      ],
      "metadata": {}
    },
    {
      "cell_type": "code",
      "execution_count": 1,
      "source": [
        "import pandas as pd\n",
        "import ssl # we need to import this library and tweak one setting due to fact we use HTTPS certificate(s)\n",
        "import yaml"
      ],
      "outputs": [],
      "metadata": {}
    },
    {
      "cell_type": "code",
      "execution_count": 2,
      "source": [
        "cfg = open(\"../config.yaml\")\n",
        "config = yaml.load(cfg, Loader=yaml.FullLoader)"
      ],
      "outputs": [],
      "metadata": {}
    },
    {
      "cell_type": "code",
      "execution_count": 3,
      "source": [
        "filepath = config[\"dataset_path\"]\n",
        "ssl._create_default_https_context = ssl._create_unverified_context\n",
        "\n",
        "# Now we want to create a dataframe and use Pandas' to_csv function to read in our file\n",
        "df = pd.read_csv(filepath, skiprows=1)  # we use skiprows parameter because first row contains our web address"
      ],
      "outputs": [],
      "metadata": {}
    },
    {
      "cell_type": "code",
      "execution_count": 4,
      "source": [
        "# Now that we have loaded our data into the dataframe, we can preview it using the print & .head() function\n",
        "df = df.sort_values(['date'], ascending=[True])\n",
        "df.head(15)  # print first 15 lines of dataframe"
      ],
      "outputs": [
        {
          "output_type": "execute_result",
          "data": {
            "text/html": [
              "<div>\n",
              "<style scoped>\n",
              "    .dataframe tbody tr th:only-of-type {\n",
              "        vertical-align: middle;\n",
              "    }\n",
              "\n",
              "    .dataframe tbody tr th {\n",
              "        vertical-align: top;\n",
              "    }\n",
              "\n",
              "    .dataframe thead th {\n",
              "        text-align: right;\n",
              "    }\n",
              "</style>\n",
              "<table border=\"1\" class=\"dataframe\">\n",
              "  <thead>\n",
              "    <tr style=\"text-align: right;\">\n",
              "      <th></th>\n",
              "      <th>unix</th>\n",
              "      <th>date</th>\n",
              "      <th>symbol</th>\n",
              "      <th>open</th>\n",
              "      <th>high</th>\n",
              "      <th>low</th>\n",
              "      <th>close</th>\n",
              "      <th>Volume BTC</th>\n",
              "      <th>Volume USDT</th>\n",
              "      <th>tradecount</th>\n",
              "    </tr>\n",
              "  </thead>\n",
              "  <tbody>\n",
              "    <tr>\n",
              "      <th>1547</th>\n",
              "      <td>1.502928e+09</td>\n",
              "      <td>2017-08-17</td>\n",
              "      <td>BTC/USDT</td>\n",
              "      <td>4469.93</td>\n",
              "      <td>4485.39</td>\n",
              "      <td>4200.74</td>\n",
              "      <td>4285.08</td>\n",
              "      <td>647.86</td>\n",
              "      <td>2812379.11</td>\n",
              "      <td>NaN</td>\n",
              "    </tr>\n",
              "    <tr>\n",
              "      <th>1546</th>\n",
              "      <td>1.503014e+09</td>\n",
              "      <td>2017-08-18</td>\n",
              "      <td>BTC/USDT</td>\n",
              "      <td>4285.08</td>\n",
              "      <td>4371.52</td>\n",
              "      <td>3938.77</td>\n",
              "      <td>4108.37</td>\n",
              "      <td>1178.07</td>\n",
              "      <td>4994493.56</td>\n",
              "      <td>NaN</td>\n",
              "    </tr>\n",
              "    <tr>\n",
              "      <th>1545</th>\n",
              "      <td>1.503101e+09</td>\n",
              "      <td>2017-08-19</td>\n",
              "      <td>BTC/USDT</td>\n",
              "      <td>4108.37</td>\n",
              "      <td>4184.69</td>\n",
              "      <td>3850.00</td>\n",
              "      <td>4139.98</td>\n",
              "      <td>371.15</td>\n",
              "      <td>1508239.39</td>\n",
              "      <td>NaN</td>\n",
              "    </tr>\n",
              "    <tr>\n",
              "      <th>1544</th>\n",
              "      <td>1.503187e+09</td>\n",
              "      <td>2017-08-20</td>\n",
              "      <td>BTC/USDT</td>\n",
              "      <td>4139.98</td>\n",
              "      <td>4211.08</td>\n",
              "      <td>4032.62</td>\n",
              "      <td>4086.29</td>\n",
              "      <td>463.54</td>\n",
              "      <td>1915636.35</td>\n",
              "      <td>NaN</td>\n",
              "    </tr>\n",
              "    <tr>\n",
              "      <th>1543</th>\n",
              "      <td>1.503274e+09</td>\n",
              "      <td>2017-08-21</td>\n",
              "      <td>BTC/USDT</td>\n",
              "      <td>4086.29</td>\n",
              "      <td>4119.62</td>\n",
              "      <td>3911.79</td>\n",
              "      <td>4016.00</td>\n",
              "      <td>685.12</td>\n",
              "      <td>2770592.06</td>\n",
              "      <td>NaN</td>\n",
              "    </tr>\n",
              "    <tr>\n",
              "      <th>1542</th>\n",
              "      <td>1.503360e+09</td>\n",
              "      <td>2017-08-22</td>\n",
              "      <td>BTC/USDT</td>\n",
              "      <td>4016.00</td>\n",
              "      <td>4104.82</td>\n",
              "      <td>3400.00</td>\n",
              "      <td>4040.00</td>\n",
              "      <td>939.91</td>\n",
              "      <td>3648726.50</td>\n",
              "      <td>NaN</td>\n",
              "    </tr>\n",
              "    <tr>\n",
              "      <th>1541</th>\n",
              "      <td>1.503446e+09</td>\n",
              "      <td>2017-08-23</td>\n",
              "      <td>BTC/USDT</td>\n",
              "      <td>4040.00</td>\n",
              "      <td>4265.80</td>\n",
              "      <td>4013.89</td>\n",
              "      <td>4114.01</td>\n",
              "      <td>980.50</td>\n",
              "      <td>4062506.52</td>\n",
              "      <td>NaN</td>\n",
              "    </tr>\n",
              "    <tr>\n",
              "      <th>1540</th>\n",
              "      <td>1.503533e+09</td>\n",
              "      <td>2017-08-24</td>\n",
              "      <td>BTC/USDT</td>\n",
              "      <td>4114.01</td>\n",
              "      <td>4371.68</td>\n",
              "      <td>4085.01</td>\n",
              "      <td>4316.01</td>\n",
              "      <td>770.46</td>\n",
              "      <td>3225405.80</td>\n",
              "      <td>NaN</td>\n",
              "    </tr>\n",
              "    <tr>\n",
              "      <th>1539</th>\n",
              "      <td>1.503619e+09</td>\n",
              "      <td>2017-08-25</td>\n",
              "      <td>BTC/USDT</td>\n",
              "      <td>4316.01</td>\n",
              "      <td>4453.91</td>\n",
              "      <td>4247.48</td>\n",
              "      <td>4280.68</td>\n",
              "      <td>563.36</td>\n",
              "      <td>2440323.79</td>\n",
              "      <td>NaN</td>\n",
              "    </tr>\n",
              "    <tr>\n",
              "      <th>1538</th>\n",
              "      <td>1.503706e+09</td>\n",
              "      <td>2017-08-26</td>\n",
              "      <td>BTC/USDT</td>\n",
              "      <td>4280.68</td>\n",
              "      <td>4367.00</td>\n",
              "      <td>4212.41</td>\n",
              "      <td>4337.44</td>\n",
              "      <td>225.76</td>\n",
              "      <td>967753.32</td>\n",
              "      <td>NaN</td>\n",
              "    </tr>\n",
              "    <tr>\n",
              "      <th>1537</th>\n",
              "      <td>1.503792e+09</td>\n",
              "      <td>2017-08-27</td>\n",
              "      <td>BTC/USDT</td>\n",
              "      <td>4337.44</td>\n",
              "      <td>4400.00</td>\n",
              "      <td>4285.54</td>\n",
              "      <td>4310.01</td>\n",
              "      <td>347.47</td>\n",
              "      <td>1507589.96</td>\n",
              "      <td>NaN</td>\n",
              "    </tr>\n",
              "    <tr>\n",
              "      <th>1536</th>\n",
              "      <td>1.503878e+09</td>\n",
              "      <td>2017-08-28</td>\n",
              "      <td>BTC/USDT</td>\n",
              "      <td>4310.01</td>\n",
              "      <td>4399.82</td>\n",
              "      <td>4124.54</td>\n",
              "      <td>4386.69</td>\n",
              "      <td>593.15</td>\n",
              "      <td>2546618.75</td>\n",
              "      <td>NaN</td>\n",
              "    </tr>\n",
              "    <tr>\n",
              "      <th>1535</th>\n",
              "      <td>1.503965e+09</td>\n",
              "      <td>2017-08-29</td>\n",
              "      <td>BTC/USDT</td>\n",
              "      <td>4386.69</td>\n",
              "      <td>4625.85</td>\n",
              "      <td>4313.55</td>\n",
              "      <td>4587.48</td>\n",
              "      <td>594.12</td>\n",
              "      <td>2640584.83</td>\n",
              "      <td>NaN</td>\n",
              "    </tr>\n",
              "    <tr>\n",
              "      <th>1534</th>\n",
              "      <td>1.504051e+09</td>\n",
              "      <td>2017-08-30</td>\n",
              "      <td>BTC/USDT</td>\n",
              "      <td>4587.48</td>\n",
              "      <td>4647.51</td>\n",
              "      <td>4416.01</td>\n",
              "      <td>4555.14</td>\n",
              "      <td>790.13</td>\n",
              "      <td>3600737.68</td>\n",
              "      <td>NaN</td>\n",
              "    </tr>\n",
              "    <tr>\n",
              "      <th>1533</th>\n",
              "      <td>1.504138e+09</td>\n",
              "      <td>2017-08-31</td>\n",
              "      <td>BTC/USDT</td>\n",
              "      <td>4555.14</td>\n",
              "      <td>4745.42</td>\n",
              "      <td>4555.14</td>\n",
              "      <td>4724.89</td>\n",
              "      <td>550.18</td>\n",
              "      <td>2548384.43</td>\n",
              "      <td>NaN</td>\n",
              "    </tr>\n",
              "  </tbody>\n",
              "</table>\n",
              "</div>"
            ],
            "text/plain": [
              "              unix        date    symbol     open     high      low    close  \\\n",
              "1547  1.502928e+09  2017-08-17  BTC/USDT  4469.93  4485.39  4200.74  4285.08   \n",
              "1546  1.503014e+09  2017-08-18  BTC/USDT  4285.08  4371.52  3938.77  4108.37   \n",
              "1545  1.503101e+09  2017-08-19  BTC/USDT  4108.37  4184.69  3850.00  4139.98   \n",
              "1544  1.503187e+09  2017-08-20  BTC/USDT  4139.98  4211.08  4032.62  4086.29   \n",
              "1543  1.503274e+09  2017-08-21  BTC/USDT  4086.29  4119.62  3911.79  4016.00   \n",
              "1542  1.503360e+09  2017-08-22  BTC/USDT  4016.00  4104.82  3400.00  4040.00   \n",
              "1541  1.503446e+09  2017-08-23  BTC/USDT  4040.00  4265.80  4013.89  4114.01   \n",
              "1540  1.503533e+09  2017-08-24  BTC/USDT  4114.01  4371.68  4085.01  4316.01   \n",
              "1539  1.503619e+09  2017-08-25  BTC/USDT  4316.01  4453.91  4247.48  4280.68   \n",
              "1538  1.503706e+09  2017-08-26  BTC/USDT  4280.68  4367.00  4212.41  4337.44   \n",
              "1537  1.503792e+09  2017-08-27  BTC/USDT  4337.44  4400.00  4285.54  4310.01   \n",
              "1536  1.503878e+09  2017-08-28  BTC/USDT  4310.01  4399.82  4124.54  4386.69   \n",
              "1535  1.503965e+09  2017-08-29  BTC/USDT  4386.69  4625.85  4313.55  4587.48   \n",
              "1534  1.504051e+09  2017-08-30  BTC/USDT  4587.48  4647.51  4416.01  4555.14   \n",
              "1533  1.504138e+09  2017-08-31  BTC/USDT  4555.14  4745.42  4555.14  4724.89   \n",
              "\n",
              "      Volume BTC  Volume USDT  tradecount  \n",
              "1547      647.86   2812379.11         NaN  \n",
              "1546     1178.07   4994493.56         NaN  \n",
              "1545      371.15   1508239.39         NaN  \n",
              "1544      463.54   1915636.35         NaN  \n",
              "1543      685.12   2770592.06         NaN  \n",
              "1542      939.91   3648726.50         NaN  \n",
              "1541      980.50   4062506.52         NaN  \n",
              "1540      770.46   3225405.80         NaN  \n",
              "1539      563.36   2440323.79         NaN  \n",
              "1538      225.76    967753.32         NaN  \n",
              "1537      347.47   1507589.96         NaN  \n",
              "1536      593.15   2546618.75         NaN  \n",
              "1535      594.12   2640584.83         NaN  \n",
              "1534      790.13   3600737.68         NaN  \n",
              "1533      550.18   2548384.43         NaN  "
            ]
          },
          "metadata": {},
          "execution_count": 4
        }
      ],
      "metadata": {}
    },
    {
      "cell_type": "code",
      "execution_count": 5,
      "source": [
        "column_to_predict = config[\"column_to_predict\"]\n",
        "epochs = config[\"epochs\"]\n",
        "batch_size = config[\"batch_size\"]\n",
        "test_ratio = config[\"test_ratio\"]\n",
        "\n",
        "look_back = config[\"look_back\"]\n",
        "look_forward = config[\"look_forward_1\"]"
      ],
      "outputs": [],
      "metadata": {}
    },
    {
      "cell_type": "markdown",
      "source": [
        "## Data preparation"
      ],
      "metadata": {}
    },
    {
      "cell_type": "code",
      "execution_count": 6,
      "source": [
        "import modules.data_prepare as prepare"
      ],
      "outputs": [],
      "metadata": {}
    },
    {
      "cell_type": "code",
      "execution_count": 7,
      "source": [
        "dataset, scaler = prepare.extract_and_scale_data(df, column_to_predict)\n",
        "X, y = prepare.split_and_reshape(dataset, scaler, look_back, look_forward, test_ratio)"
      ],
      "outputs": [
        {
          "output_type": "stream",
          "name": "stdout",
          "text": [
            "X:(1527, 20),y:(1527, 1)\n"
          ]
        }
      ],
      "metadata": {}
    },
    {
      "cell_type": "markdown",
      "source": [
        "## Creating LSTM model"
      ],
      "metadata": {}
    },
    {
      "cell_type": "code",
      "execution_count": 8,
      "source": [
        "from modules.helpers import create_model\n",
        "model = create_model(X.train, y.train, look_back, epochs, batch_size)"
      ],
      "outputs": [
        {
          "output_type": "stream",
          "name": "stderr",
          "text": [
            "2021-11-10 13:48:20.328347: W tensorflow/stream_executor/platform/default/dso_loader.cc:64] Could not load dynamic library 'libcudart.so.11.0'; dlerror: libcudart.so.11.0: cannot open shared object file: No such file or directory\n",
            "2021-11-10 13:48:20.328390: I tensorflow/stream_executor/cuda/cudart_stub.cc:29] Ignore above cudart dlerror if you do not have a GPU set up on your machine.\n",
            "2021-11-10 13:48:29.486304: W tensorflow/stream_executor/platform/default/dso_loader.cc:64] Could not load dynamic library 'libcuda.so.1'; dlerror: libcuda.so.1: cannot open shared object file: No such file or directory\n",
            "2021-11-10 13:48:29.486345: W tensorflow/stream_executor/cuda/cuda_driver.cc:269] failed call to cuInit: UNKNOWN ERROR (303)\n",
            "2021-11-10 13:48:29.486363: I tensorflow/stream_executor/cuda/cuda_diagnostics.cc:156] kernel driver does not appear to be running on this host (bubunta): /proc/driver/nvidia/version does not exist\n",
            "2021-11-10 13:48:29.486701: I tensorflow/core/platform/cpu_feature_guard.cc:151] This TensorFlow binary is optimized with oneAPI Deep Neural Network Library (oneDNN) to use the following CPU instructions in performance-critical operations:  AVX2 AVX512F FMA\n",
            "To enable them in other operations, rebuild TensorFlow with the appropriate compiler flags.\n"
          ]
        },
        {
          "output_type": "stream",
          "name": "stdout",
          "text": [
            "Epoch 1/30\n",
            "1496/1496 [==============================] - 3s 1ms/step - loss: 0.0022\n",
            "Epoch 2/30\n",
            "1496/1496 [==============================] - 2s 1ms/step - loss: 8.6350e-04\n",
            "Epoch 3/30\n",
            "1496/1496 [==============================] - 2s 1ms/step - loss: 6.8905e-04\n",
            "Epoch 4/30\n",
            "1496/1496 [==============================] - 2s 1ms/step - loss: 5.5912e-04\n",
            "Epoch 5/30\n",
            "1496/1496 [==============================] - 2s 1ms/step - loss: 5.6497e-04\n",
            "Epoch 6/30\n",
            "1496/1496 [==============================] - 2s 1ms/step - loss: 4.8394e-04\n",
            "Epoch 7/30\n",
            "1496/1496 [==============================] - 2s 1ms/step - loss: 4.6291e-04\n",
            "Epoch 8/30\n",
            "1496/1496 [==============================] - 2s 1ms/step - loss: 4.5365e-04\n",
            "Epoch 9/30\n",
            "1496/1496 [==============================] - 2s 1ms/step - loss: 4.6018e-04\n",
            "Epoch 10/30\n",
            "1496/1496 [==============================] - 2s 1ms/step - loss: 4.0158e-04\n",
            "Epoch 11/30\n",
            "1496/1496 [==============================] - 2s 1ms/step - loss: 4.2790e-04\n",
            "Epoch 12/30\n",
            "1496/1496 [==============================] - 2s 1ms/step - loss: 4.0425e-04\n",
            "Epoch 13/30\n",
            "1496/1496 [==============================] - 2s 1ms/step - loss: 4.2554e-04\n",
            "Epoch 14/30\n",
            "1496/1496 [==============================] - 2s 1ms/step - loss: 3.9897e-04\n",
            "Epoch 15/30\n",
            "1496/1496 [==============================] - 2s 1ms/step - loss: 3.8357e-04\n",
            "Epoch 16/30\n",
            "1496/1496 [==============================] - 2s 1ms/step - loss: 3.5680e-04\n",
            "Epoch 17/30\n",
            "1496/1496 [==============================] - 2s 1ms/step - loss: 3.7072e-04\n",
            "Epoch 18/30\n",
            "1496/1496 [==============================] - 2s 1ms/step - loss: 3.7863e-04\n",
            "Epoch 19/30\n",
            "1496/1496 [==============================] - 2s 1ms/step - loss: 3.5845e-04\n",
            "Epoch 20/30\n",
            "1496/1496 [==============================] - 2s 1ms/step - loss: 4.0190e-04\n",
            "Epoch 21/30\n",
            "1496/1496 [==============================] - 2s 1ms/step - loss: 3.6411e-04\n",
            "Epoch 22/30\n",
            "1496/1496 [==============================] - 2s 1ms/step - loss: 3.4628e-04\n",
            "Epoch 23/30\n",
            "1496/1496 [==============================] - 2s 1ms/step - loss: 3.1797e-04\n",
            "Epoch 24/30\n",
            "1496/1496 [==============================] - 2s 1ms/step - loss: 3.1853e-04\n",
            "Epoch 25/30\n",
            "1496/1496 [==============================] - 2s 1ms/step - loss: 3.2184e-04\n",
            "Epoch 26/30\n",
            "1496/1496 [==============================] - 2s 1ms/step - loss: 3.5439e-04\n",
            "Epoch 27/30\n",
            "1496/1496 [==============================] - 2s 1ms/step - loss: 3.1967e-04\n",
            "Epoch 28/30\n",
            "1496/1496 [==============================] - 2s 1ms/step - loss: 3.2945e-04\n",
            "Epoch 29/30\n",
            "1496/1496 [==============================] - 2s 1ms/step - loss: 3.1580e-04\n",
            "Epoch 30/30\n",
            "1496/1496 [==============================] - 2s 1ms/step - loss: 3.3084e-04\n"
          ]
        }
      ],
      "metadata": {}
    },
    {
      "cell_type": "markdown",
      "source": [
        "## Executing the model"
      ],
      "metadata": {}
    },
    {
      "cell_type": "code",
      "execution_count": 9,
      "source": [
        "from modules.helpers import predict_and_measure"
      ],
      "outputs": [],
      "metadata": {}
    },
    {
      "cell_type": "markdown",
      "source": [
        "### on train data"
      ],
      "metadata": {}
    },
    {
      "cell_type": "code",
      "execution_count": 10,
      "source": [
        "train_predict, train_rmse = predict_and_measure(model, X.train, y.train, scaler)\n",
        "print('Train Score: %.2f RMSE' % (train_rmse))"
      ],
      "outputs": [
        {
          "output_type": "stream",
          "name": "stdout",
          "text": [
            "Train Score: 1005.09 RMSE\n"
          ]
        }
      ],
      "metadata": {}
    },
    {
      "cell_type": "markdown",
      "source": [
        "### on test data"
      ],
      "metadata": {}
    },
    {
      "cell_type": "code",
      "execution_count": 11,
      "source": [
        "test_predict, test_rmse = predict_and_measure(model, X.test, y.test, scaler)\n",
        "print('Test Score: %.2f RMSE' % (test_rmse))"
      ],
      "outputs": [
        {
          "output_type": "stream",
          "name": "stdout",
          "text": [
            "Test Score: 2205.40 RMSE\n"
          ]
        }
      ],
      "metadata": {}
    },
    {
      "cell_type": "markdown",
      "source": [
        "## Plot the results"
      ],
      "metadata": {}
    },
    {
      "cell_type": "code",
      "execution_count": 12,
      "source": [
        "from modules.helpers import prepare_plot\n",
        "import matplotlib.pyplot as plt"
      ],
      "outputs": [],
      "metadata": {}
    },
    {
      "cell_type": "code",
      "execution_count": 13,
      "source": [
        "prepare_plot(\n",
        "    title=\"Historical Bitcoin Price (Binance Exchange)\",\n",
        "    xlabel=\"day\",\n",
        "    ylabel=\"Price\")\n",
        "plt.plot(dataset)\n",
        "plt.show()"
      ],
      "outputs": [
        {
          "output_type": "display_data",
          "data": {
            "image/png": "[encoded data removed]",
            "text/plain": [
              "<Figure size 432x288 with 1 Axes>"
            ]
          },
          "metadata": {
            "needs_background": "light"
          }
        }
      ],
      "metadata": {
        "colab": {
          "base_uri": "https://localhost:8080/",
          "height": 1000
        },
        "id": "c0Ke0YZN8LTG",
        "outputId": "c180b9e3-a8b7-4d2f-e720-d2d842777acb"
      }
    },
    {
      "cell_type": "code",
      "execution_count": 14,
      "source": [
        "import numpy as np"
      ],
      "outputs": [],
      "metadata": {}
    },
    {
      "cell_type": "code",
      "execution_count": 15,
      "source": [
        "train_begin = look_back\n",
        "train_end = train_begin + len(train_predict)\n",
        "\n",
        "train_pred_plot = np.full_like(dataset, np.nan)\n",
        "train_pred_plot[train_begin:train_end, :] = train_predict\n",
        "# shift test predictions for plotting\n",
        "test_pred_plot = np.full_like(dataset, np.nan)\n",
        "test_pred_plot[train_end:-1, :] = test_predict\n",
        "\n",
        "# plot baseline and predictions\n",
        "_, ax = plt.subplots()\n",
        "ax.plot(dataset, label='Y')\n",
        "ax.plot(train_pred_plot, '--', label='Y train')\n",
        "ax.plot(test_pred_plot, '--', label='Y test')\n",
        "_ = ax.legend(loc='best', shadow=True, fontsize='x-large')\n",
        "\n",
        "prepare_plot(\n",
        "  title=\"Bitcoin Price daily time-frame one-day Predictions vs Real\",\n",
        "  xlabel=\"day\",\n",
        "  ylabel=\"Price\"\n",
        ")\n",
        "plt.show()"
      ],
      "outputs": [
        {
          "output_type": "display_data",
          "data": {
            "image/png": "[encoded data removed]",
            "text/plain": [
              "<Figure size 432x288 with 1 Axes>"
            ]
          },
          "metadata": {
            "needs_background": "light"
          }
        }
      ],
      "metadata": {}
    }
  ],
  "metadata": {
    "colab": {
      "name": "Tesis_Giithub_1.ipynb",
      "provenance": []
    },
    "interpreter": {
      "hash": "2f4d26c4522d653bb91caf0f5304cbb885ea3a3218f86bacb91139660d12fa74"
    },
    "kernelspec": {
      "name": "python3",
      "display_name": "Python 3.8.10 64-bit ('lab-2-mlt-_LLdRHPu': pipenv)"
    },
    "language_info": {
      "codemirror_mode": {
        "name": "ipython",
        "version": 3
      },
      "file_extension": ".py",
      "mimetype": "text/x-python",
      "name": "python",
      "nbconvert_exporter": "python",
      "pygments_lexer": "ipython3",
      "version": "3.8.10"
    }
  },
  "nbformat": 4,
  "nbformat_minor": 2
}