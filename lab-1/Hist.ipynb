{
 "cells": [
  {
   "cell_type": "code",
   "execution_count": 1,
   "metadata": {},
   "outputs": [],
   "source": [
    "import numpy as np\n",
    "import matplotlib.pyplot as plt\n",
    "\n",
    "np.random.seed(0)"
   ]
  },
  {
   "cell_type": "code",
   "execution_count": 2,
   "metadata": {},
   "outputs": [],
   "source": [
    "from typing import List, Tuple, Union\n",
    "\n",
    "def fast_hist(array: List[Union[int, float]], \n",
    "              bins: int) -> Tuple[List[int], List[float]]:\n",
    "    \"\"\"\n",
    "    Builds bins' labels and bins' value counts for given array\n",
    "    :param array: array with numeric values\n",
    "    :param bins:  number of bins in result distribution\n",
    "    :return: Two lists: \n",
    "             first contains value counts of each bin,\n",
    "             second contains list of bins' labels\n",
    "    \"\"\"\n",
    "    array = np.array(array)\n",
    "    left = array.min()\n",
    "    right = array.max()\n",
    "    step = (right - left) / bins\n",
    "    if step == 0.:\n",
    "        step = 0.1\n",
    "\n",
    "    as_indices = np.clip(((array - left) / step).astype(int), \n",
    "        0,\n",
    "        bins - 1)\n",
    "    values, value_cnts = np.unique(as_indices, return_counts=True)\n",
    "\n",
    "    res_y = np.zeros(bins, dtype=int)\n",
    "    res_y[values] = value_cnts\n",
    "\n",
    "    return res_y, np.linspace(left, right, bins + 1)\n",
    "\n",
    "def fast_hist_show(array: List[Union[int, float]], bins: int):\n",
    "    res_y, res_x = fast_hist(array, bins)\n",
    "    plt.bar(res_x[:-1], res_y, 1. / (bins * 1.2))"
   ]
  },
  {
   "cell_type": "markdown",
   "metadata": {},
   "source": [
    "## Замеры"
   ]
  },
  {
   "cell_type": "code",
   "execution_count": 3,
   "metadata": {},
   "outputs": [],
   "source": [
    "test_array = np.random.rand(10000)\n",
    "bins_cnt = 100"
   ]
  },
  {
   "cell_type": "markdown",
   "metadata": {},
   "source": [
    "### plt.hist"
   ]
  },
  {
   "cell_type": "code",
   "execution_count": 4,
   "metadata": {},
   "outputs": [
    {
     "name": "stdout",
     "output_type": "stream",
     "text": [
      "45.2 ms ± 668 µs per loop (mean ± std. dev. of 7 runs, 10 loops each)\n"
     ]
    },
    {
     "data": {
      "image/png": "[encoded data removed]",
      "text/plain": [
       "<Figure size 432x288 with 1 Axes>"
      ]
     },
     "metadata": {
      "needs_background": "light"
     },
     "output_type": "display_data"
    }
   ],
   "source": [
    "%timeit plt.hist(test_array, bins=bins_cnt, rwidth=0.9)"
   ]
  },
  {
   "cell_type": "markdown",
   "metadata": {},
   "source": [
    "### fast_hist"
   ]
  },
  {
   "cell_type": "code",
   "execution_count": 5,
   "metadata": {},
   "outputs": [
    {
     "name": "stdout",
     "output_type": "stream",
     "text": [
      "561 µs ± 3.15 µs per loop (mean ± std. dev. of 7 runs, 1000 loops each)\n",
      "45.3 ms ± 661 µs per loop (mean ± std. dev. of 7 runs, 10 loops each)\n"
     ]
    },
    {
     "data": {
      "image/png": "[encoded data removed]",
      "text/plain": [
       "<Figure size 432x288 with 1 Axes>"
      ]
     },
     "metadata": {
      "needs_background": "light"
     },
     "output_type": "display_data"
    }
   ],
   "source": [
    "%timeit fast_hist(test_array, bins_cnt)\n",
    "%timeit fast_hist_show(test_array, bins_cnt)"
   ]
  }
 ],
 "metadata": {
  "interpreter": {
   "hash": "31f2aee4e71d21fbe5cf8b01ff0e069b9275f58929596ceb00d14d90e3e16cd6"
  },
  "kernelspec": {
   "display_name": "Python 3.8.10 64-bit",
   "name": "python3"
  },
  "language_info": {
   "codemirror_mode": {
    "name": "ipython",
    "version": 3
   },
   "file_extension": ".py",
   "mimetype": "text/x-python",
   "name": "python",
   "nbconvert_exporter": "python",
   "pygments_lexer": "ipython3",
   "version": "3.8.10"
  },
  "orig_nbformat": 4
 },
 "nbformat": 4,
 "nbformat_minor": 2
}
